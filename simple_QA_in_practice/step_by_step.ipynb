{
 "cells": [
  {
   "cell_type": "code",
   "execution_count": 1,
   "metadata": {
    "collapsed": true
   },
   "outputs": [],
   "source": [
    "import math\n",
    "import os\n",
    "import random\n",
    "import sys\n",
    "import time\n",
    "import numpy as np\n",
    "import tensorflow as tf\n",
    "import datetime\n",
    "from tqdm import tqdm"
   ]
  },
  {
   "cell_type": "code",
   "execution_count": 2,
   "metadata": {
    "collapsed": false
   },
   "outputs": [
    {
     "name": "stdout",
     "output_type": "stream",
     "text": [
      "Loading dataset from ...\n",
      "Loaded: 50004 words, 9999 training samples\n",
      "Shuffling dataset...\n",
      "[[946, 41, 9, 40, 363, 27356, 10, 13, 363, 12, 4, 1988, 28, 4817, 132, 234, 3230, 596, 808, 81, 126, 851, 0, 27, 14187, 3967, 423, 721, 144, 795, 9878, 18, 5, 479, 1851, 0, 7, 6, 139, 0, 93, 0, 117, 9, 24, 478, 0, 0, 30, 44, 123, 9, 12, 15, 9, 2003, 203, 4, 667, 239, 63, 8, 1035, 7], [29, 24, 778, 624, 8, 60, 47, 5, 6, 10121, 699, 14, 13, 4817, 184, 277, 5070, 5, 208, 2943, 851, 64, 0, 5, 766, 33, 5, 8, 57, 73, 37, 21, 332, 8, 74, 0, 192, 46, 198, 0, 19, 0, 22, 3105, 178, 17, 0, 0, 207, 68, 21, 52, 655, 13, 33, 13, 3684, 18, 6, 3934, 796, 71, 351, 43], [15, 987, 259, 607, 4, 7, 6, 1356, 27, 6, 5, 358, 5, 3, 34, 15, 13, 271, 1834, 22, 12, 13039, 0, 43596, 31, 77, 1341, 1141, 17, 118, 26, 774, 6, 15, 16, 0, 5, 444, 3, 0, 70, 0, 417, 195, 1417, 894, 0, 0, 6, 987, 192, 891, 8, 675, 26, 1348, 3, 21, 3826, 90, 455, 11, 6, 110], [239, 8, 74, 7, 126, 354, 4, 92, 143, 14, 265, 745, 206, 80, 11, 33, 91, 20, 208, 5, 1832, 6, 0, 106, 313, 15, 134, 10, 32, 71, 8, 455, 14, 33, 3, 0, 954, 461, 8, 13, 1117, 0, 947, 9, 25, 7, 0, 0, 4, 970, 70, 14, 87, 186, 550, 8140, 12, 56, 11, 15, 77, 23, 319, 27], [19, 26, 8, 83, 1286, 2220, 457, 22, 230, 19, 557, 10, 289, 51, 19, 105, 453, 675, 6270, 144, 7, 27, 93, 21, 2245, 68, 29, 4, 37, 49, 80, 41731, 28, 12, 16, 0, 192, 1990, 303, 9, 28, 0, 79, 36, 26, 19, 1757, 0, 63, 277, 399, 9, 16, 462, 7, 4, 8956, 10, 130, 10, 17, 83, 10, 73], [231, 73, 9, 287, 44, 47, 41, 48, 7, 26, 10, 4, 20, 4260, 1885, 4, 24, 8, 29, 327, 12, 22, 19, 38, 101, 30, 4, 102, 18, 78, 579, 30, 653, 2196, 3, 0, 1229, 6, 12, 12, 106, 4, 6, 3276, 154, 281, 40, 0, 38, 6, 491, 158, 3, 15, 32, 126, 1681, 11, 1017, 63, 133, 28, 4, 44], [212, 5, 13, 25, 40, 15, 193, 1351, 260, 212, 65, 4631, 1736, 51, 6138, 174, 3, 60, 15, 10, 82, 1933, 813, 92, 50, 467, 72, 134, 11, 2446, 87, 207, 255, 3, 13, 0, 45, 76, 168, 424, 38, 72, 305, 14, 6, 7, 3, 0, 244, 27, 17, 449, 208, 916, 29, 702, 4121, 182, 417, 58, 162, 506, 83, 356], [824, 1047, 12, 34, 87, 5, 7, 48, 12, 907, 4, 9, 8, 11, 14, 5, 20, 7, 33, 70, 15, 4, 31, 6, 89, 188, 7, 140, 19, 1196, 16, 16, 42, 11, 26, 17, 20, 58, 73, 8, 1657, 7, 17, 3276, 11, 9, 25, 0, 7, 20, 3, 27, 151, 59, 27, 17, 371, 36, 240, 10, 24, 13, 48, 11], [175, 29, 98, 11, 16, 114, 1922, 727, 114, 59, 107, 36, 209, 23, 19, 3, 17251, 228, 250, 2300, 53, 134, 4619, 208, 6, 7, 971, 7, 7, 1433, 3, 25, 11, 130, 12, 32, 12, 136, 12, 79, 30, 54, 253, 14, 23, 8, 361, 23, 1121, 781, 8, 71, 71, 113, 32, 91, 270, 19, 780, 30, 32, 81, 356, 130], [1948, 9, 1156, 134, 800, 23, 6, 182, 2222, 44, 12, 3640, 226, 58, 174, 49, 80, 91, 122, 8, 26, 19, 1725, 842, 63, 58, 2961, 97, 210, 50, 8, 118, 81, 19, 3160, 285, 628, 5, 782, 6, 277, 5, 14, 3276, 1872, 87, 3, 11, 9, 96, 136, 9, 4, 355, 13, 929, 33, 7, 380, 140, 3170, 5, 10, 19], [53, 33, 277, 123, 8, 1665, 27, 38, 46, 200, 524, 12, 480, 12, 305, 37, 47, 67, 10, 171, 801, 46, 8, 7, 676, 6, 24, 1140, 141, 182, 16882, 52, 8, 7, 296, 1246, 185, 2001, 397, 4, 31, 738, 2116, 10, 118, 16, 13, 269, 875, 3, 867, 311, 121, 851, 97, 34, 541, 210, 25, 2676, 187, 562, 718, 7], [5, 12, 29, 21, 3, 86, 35, 235, 22, 29, 341, 344, 922, 1549, 10, 484, 17110, 28, 47, 159, 745, 496, 613, 16934, 139, 27, 11532, 28, 8, 210, 213, 12, 422, 2674, 71, 6, 29, 115, 20, 164, 5, 20, 6, 3492, 12, 800, 28, 132, 8, 65, 17, 21, 44, 120, 25, 11, 22, 91, 4, 61, 52, 14, 129, 949], [1675, 274, 11, 54, 213, 1637, 7, 5487, 588, 13, 40, 24, 69, 6, 1366, 50, 86, 42, 288, 16, 48, 95, 562, 5, 90, 4, 4, 69, 5, 9, 3, 32, 16821, 22, 13, 39, 28, 189, 3, 167, 1668, 990, 31, 221, 376, 8, 4, 597, 1155, 409, 987, 312, 29, 9362, 8, 72, 48, 3601, 100, 42, 109, 114, 148, 7], [31, 24, 23, 9, 3, 7, 163, 20, 6, 5, 3490, 1354, 21, 27, 17, 71, 59, 11, 12, 1328, 622, 518, 11342, 262, 3, 68, 137, 11, 1131, 177, 346, 257, 16, 35, 44, 33, 75, 160, 10, 1475, 8, 6, 3127, 6, 52, 3, 121, 233, 15, 494, 6364, 74, 13, 37, 40, 9, 49, 719, 19, 2329, 43, 316, 13, 3], [5, 64, 333, 6, 25, 2459, 9, 128, 4, 290, 25, 16, 77, 18, 3164, 4, 1918, 288, 492, 40, 3283, 4, 7, 88, 2052, 3789, 463, 41, 600, 629, 3, 116, 1661, 7, 12, 2236, 4, 44, 15, 8, 19, 124, 3, 10455, 36, 128, 63, 466, 39, 65, 6, 17, 9, 20130, 4, 177, 2557, 7, 4906, 1974, 1917, 29, 85, 41], [1471, 171, 97, 150, 1791, 37, 7, 1108, 36, 157, 6, 11080, 43, 21, 10, 62, 3703, 31, 99, 14, 28, 18, 10894, 8, 3, 4, 151, 52, 42, 64, 437, 37, 327, 18, 96, 956, 217, 201, 223, 14, 11, 23, 196, 178, 12, 3, 83, 431, 13, 11, 47, 5, 836, 5512, 18, 6, 50, 48, 1283, 22, 14, 4, 6, 2143], [3, 2578, 14, 95, 6, 78, 118, 6, 92, 61, 35, 16, 48, 1340, 58, 1398, 20, 675, 17, 83, 494, 15, 6, 11, 13, 84, 3, 322, 5, 23961, 9, 214, 13, 15, 8, 112, 9, 78, 67, 2986, 767, 4, 143, 17, 11244, 194, 2486, 36961, 459, 513, 46, 2562, 115, 42, 21, 326, 13, 341, 92, 5, 49, 56, 14, 14], [53, 169, 314, 395, 27, 63, 52, 299, 12924, 5, 23, 16, 638, 24386, 7000, 4, 1237, 8, 3180, 34, 34, 492, 2983, 23, 20, 1044, 151, 14, 144, 15, 57, 6, 32, 40, 34, 13, 8, 1683, 31, 170, 5, 119, 81, 48, 695, 6, 11, 7, 406, 5, 29, 8, 17, 139, 774, 20, 26, 7, 52, 205, 198, 29, 272, 11], [26, 155, 14, 16, 4, 26, 1922, 113, 52, 144, 4, 106, 5379, 4, 24, 18, 428, 725, 37, 11, 11, 10, 3489, 260, 6934, 652, 232, 105, 6, 3394, 12, 99, 14, 9, 47, 1685, 1092, 1297, 48, 2029, 290, 15, 2116, 490, 10, 830, 42, 700, 22, 49, 19, 228, 159, 6315, 455, 49, 2289, 83, 30, 10, 50, 53, 969, 23], [77, 6, 202, 14991, 123, 77, 8, 181, 5, 22, 171, 21, 4, 137, 305, 21, 34, 12, 2558, 23, 18, 58, 4016, 7, 6, 95, 11532, 6, 11, 49, 16836, 542, 4, 33, 6, 31, 496, 3, 1823, 12, 180, 8, 3174, 15, 28, 36, 81, 8, 585, 58, 11, 5, 8, 20, 393, 259, 6, 124, 753, 16, 8, 26, 718, 163], [31, 23, 139, 34, 21, 745, 15, 26, 478, 5, 1002, 315, 137, 29, 10, 77, 4, 10266, 22, 14045, 16, 1328, 161, 1174, 26, 24, 155, 34, 181, 2370, 576, 6, 19, 549, 35, 22384, 116, 5, 651, 587, 7, 990, 6, 23, 13, 57, 5, 316, 24, 32, 1519, 891, 26, 630, 7266, 7, 18, 9, 260, 25, 4, 403, 369, 44516], [214, 26, 197, 11, 54, 51, 68, 2838, 6, 392, 573, 7, 15, 5537, 46, 109, 68, 37, 12, 74, 11289, 17, 5, 14, 20, 5, 4, 11, 26, 3238, 40, 476, 92, 64, 7, 6, 37, 3, 1982, 1650, 5, 13, 5, 2082, 48, 1046, 1985, 24, 5, 173, 9, 1638, 1282, 3, 103, 2285, 21, 33, 28, 335, 43, 7, 17, 57], [87, 423, 11, 181, 15, 260, 20, 32, 14, 929, 8, 16, 69, 77, 60, 37, 17, 12, 516, 5, 3, 159, 1681, 393, 32, 310, 156, 181, 622, 18, 26, 5, 3, 1557, 256, 4, 404, 69, 10, 310, 1211, 46, 66, 551, 96, 118, 118, 630, 140, 50, 160, 8, 11, 3, 71, 32, 18, 279, 90, 1179, 305, 38, 15, 5], [16, 9, 920, 81, 6238, 247, 11, 234, 9, 8, 3, 3, 21, 16, 20, 443, 85, 5052, 12684, 766, 101, 20, 1492, 61, 1374, 16, 151, 140, 70, 26, 2472, 32, 22, 1126, 9, 758, 116, 21, 89, 16, 66, 957, 17, 118, 409, 560, 1595, 43, 416, 284, 1383, 16, 45898, 1690, 25, 987, 15, 907, 2592, 521, 3067, 562, 148, 1242], [3, 10, 7, 5271, 188, 3, 10, 550, 337, 480, 213, 16, 77, 40, 10876, 178, 8, 8, 8, 25, 1337, 496, 10, 404, 29, 580, 11864, 8, 154, 1852, 25, 148, 1091, 25, 8, 8, 8, 77, 51, 334, 8, 519, 32, 8, 8, 195, 8, 1148, 7383, 8, 8, 25, 3504, 1416, 25, 50, 109, 10, 8, 10, 10, 854, 10, 584]]\n",
      "Loading dataset from ...\n",
      "Loaded: 50004 words, 10 training samples\n",
      "Shuffling dataset...\n"
     ]
    }
   ],
   "source": [
    "# from text_data_2 import *\n",
    "from text_data_no_bucket import *\n",
    "from create_dict_2 import *\n",
    "import model_seq2seq_2\n",
    "from model_seq2seq_2 import Model"
   ]
  },
  {
   "cell_type": "code",
   "execution_count": 3,
   "metadata": {
    "collapsed": false
   },
   "outputs": [],
   "source": [
    "tf.app.flags.DEFINE_float('learning_rate',0.5,'Learning rate')\n",
    "tf.app.flags.DEFINE_float('learning_rate_decay_factor',0.99,'Learning rate decays by this much')\n",
    "tf.app.flags.DEFINE_float('max_gradient_norm',5.0,'Clip gradients to this norm')\n",
    "tf.app.flags.DEFINE_integer('batch_size',64,'Batch size for training')\n",
    "tf.app.flags.DEFINE_integer('size',20,'Size of each layer') # the number of unfolded LSTM units in each layer(maybe too larger)..? or the dimension of hidden vector?\n",
    "# the number of unfolded LSTM units could have big influence on the time need to build the model, 512 units require a long time\n",
    "tf.app.flags.DEFINE_integer('num_layers',3,'Number of layers')\n",
    "tf.app.flags.DEFINE_integer('num_epochs',3,'maximum number of epochs to run')\n",
    "tf.app.flags.DEFINE_integer('vocab_size',50000,'Vocabulary size, words with lower frequency are regarded as unknown')\n",
    "tf.app.flags.DEFINE_string('train_samples_path','ubuntu_train_samples.pkl','Processed training samples')\n",
    "tf.app.flags.DEFINE_string('valid_samples_path','ubuntu_valid_samples.pkl','Processed validation samples')\n",
    "# tf.app.flags.DEFINE_string('test_samples_path','ubuntu_test_samples.pkl','Processed test samples')\n",
    "rootDir = \"/Users/hanzhichao/Documents/ETH_Courses/DeepLearning/project/\"\n",
    "tf.app.flags.DEFINE_string('train_data_path',rootDir+'data/ubuntu/train.csv','Training data')\n",
    "tf.app.flags.DEFINE_string('valid_data_path',rootDir+'data/ubuntu/valid.csv','Validation data')\n",
    "# tf.app.flags.DEFINE_string('test_data_path','data/ubuntu/test.csv','Test data')\n",
    "tf.app.flags.DEFINE_string('sorted_list_path','ubuntu_freqlist.pkl','List of words sorted by frequency')\n",
    "tf.app.flags.DEFINE_string('dialog_path',rootDir+'data/ubuntu/dialogs/','Directory of raw ubuntu dialogues')\n",
    "tf.app.flags.DEFINE_integer('playDataset',20,'Display random samples from data')\n",
    "tf.app.flags.DEFINE_integer('max_train_data_size',0,'Limit on the size of training data (0: no limit)')\n",
    "tf.app.flags.DEFINE_integer('steps_per_checkpoint',500,'Number of training steps between checkpoints')\n",
    "tf.app.flags.DEFINE_boolean('decode',False,'Set to True for interactive decoding')"
   ]
  },
  {
   "cell_type": "code",
   "execution_count": 4,
   "metadata": {
    "collapsed": true
   },
   "outputs": [],
   "source": [
    "FLAGS = tf.app.flags.FLAGS"
   ]
  },
  {
   "cell_type": "code",
   "execution_count": 5,
   "metadata": {
    "collapsed": true
   },
   "outputs": [],
   "source": [
    "_buckets = [(10,20),(20,40),(30,60),(40,80),(50,100)]"
   ]
  },
  {
   "cell_type": "code",
   "execution_count": 6,
   "metadata": {
    "collapsed": true
   },
   "outputs": [],
   "source": [
    "def create_model(session):\n",
    "    model = Model(FLAGS)\n",
    "    # TODO: save and restore model to/from hard disk\n",
    "    Load_model = False\n",
    "    if Load_model:\n",
    "        model.saver.restore(session, FILA_NAME)\n",
    "    else:\n",
    "        session.run(tf.initialize_all_variables())\n",
    "    return model"
   ]
  },
  {
   "cell_type": "code",
   "execution_count": 7,
   "metadata": {
    "collapsed": false
   },
   "outputs": [],
   "source": [
    "reload(model_seq2seq_2)\n",
    "from model_seq2seq_2 import Model"
   ]
  },
  {
   "cell_type": "code",
   "execution_count": 8,
   "metadata": {
    "collapsed": false
   },
   "outputs": [],
   "source": [
    "sess = tf.Session()"
   ]
  },
  {
   "cell_type": "code",
   "execution_count": 9,
   "metadata": {
    "collapsed": false,
    "scrolled": true
   },
   "outputs": [
    {
     "name": "stdout",
     "output_type": "stream",
     "text": [
      "model creation...\n",
      "3\n",
      "starting building network...\n",
      "WARNING:tensorflow:From model_seq2seq_2.py:76 in buildNetwork.: scalar_summary (from tensorflow.python.ops.logging_ops) is deprecated and will be removed after 2016-11-30.\n",
      "Instructions for updating:\n",
      "Please switch to tf.summary.scalar. Note that tf.summary.scalar uses the node name instead of the tag. This means that TensorFlow will automatically de-duplicate summary names based on the scope they are created in. Also, passing a tensor or list of tags to a scalar summary op is no longer supported.\n",
      "network built...\n"
     ]
    }
   ],
   "source": [
    "model = Model(FLAGS)"
   ]
  },
  {
   "cell_type": "code",
   "execution_count": 10,
   "metadata": {
    "collapsed": false
   },
   "outputs": [
    {
     "data": {
      "text/plain": [
       "[<tf.Tensor 'placeholder_encoder/Placeholder:0' shape=(?,) dtype=int32>,\n",
       " <tf.Tensor 'placeholder_encoder/Placeholder_1:0' shape=(?,) dtype=int32>,\n",
       " <tf.Tensor 'placeholder_encoder/Placeholder_2:0' shape=(?,) dtype=int32>,\n",
       " <tf.Tensor 'placeholder_encoder/Placeholder_3:0' shape=(?,) dtype=int32>,\n",
       " <tf.Tensor 'placeholder_encoder/Placeholder_4:0' shape=(?,) dtype=int32>,\n",
       " <tf.Tensor 'placeholder_encoder/Placeholder_5:0' shape=(?,) dtype=int32>,\n",
       " <tf.Tensor 'placeholder_encoder/Placeholder_6:0' shape=(?,) dtype=int32>,\n",
       " <tf.Tensor 'placeholder_encoder/Placeholder_7:0' shape=(?,) dtype=int32>,\n",
       " <tf.Tensor 'placeholder_encoder/Placeholder_8:0' shape=(?,) dtype=int32>,\n",
       " <tf.Tensor 'placeholder_encoder/Placeholder_9:0' shape=(?,) dtype=int32>,\n",
       " <tf.Tensor 'placeholder_encoder/Placeholder_10:0' shape=(?,) dtype=int32>,\n",
       " <tf.Tensor 'placeholder_encoder/Placeholder_11:0' shape=(?,) dtype=int32>,\n",
       " <tf.Tensor 'placeholder_encoder/Placeholder_12:0' shape=(?,) dtype=int32>,\n",
       " <tf.Tensor 'placeholder_encoder/Placeholder_13:0' shape=(?,) dtype=int32>,\n",
       " <tf.Tensor 'placeholder_encoder/Placeholder_14:0' shape=(?,) dtype=int32>,\n",
       " <tf.Tensor 'placeholder_encoder/Placeholder_15:0' shape=(?,) dtype=int32>,\n",
       " <tf.Tensor 'placeholder_encoder/Placeholder_16:0' shape=(?,) dtype=int32>,\n",
       " <tf.Tensor 'placeholder_encoder/Placeholder_17:0' shape=(?,) dtype=int32>,\n",
       " <tf.Tensor 'placeholder_encoder/Placeholder_18:0' shape=(?,) dtype=int32>,\n",
       " <tf.Tensor 'placeholder_encoder/Placeholder_19:0' shape=(?,) dtype=int32>]"
      ]
     },
     "execution_count": 10,
     "metadata": {},
     "output_type": "execute_result"
    }
   ],
   "source": [
    "model.encoderInputs"
   ]
  },
  {
   "cell_type": "code",
   "execution_count": 11,
   "metadata": {
    "collapsed": false
   },
   "outputs": [
    {
     "name": "stdout",
     "output_type": "stream",
     "text": [
      "WARNING:tensorflow:From <ipython-input-11-9f5df2c7784a>:1 in <module>.: initialize_all_variables (from tensorflow.python.ops.variables) is deprecated and will be removed after 2017-03-02.\n",
      "Instructions for updating:\n",
      "Use `tf.global_variables_initializer` instead.\n"
     ]
    }
   ],
   "source": [
    "sess.run(tf.initialize_all_variables())"
   ]
  },
  {
   "cell_type": "code",
   "execution_count": 12,
   "metadata": {
    "collapsed": false
   },
   "outputs": [
    {
     "data": {
      "text/plain": [
       "'ubuntu_train_samples.pkl'"
      ]
     },
     "execution_count": 12,
     "metadata": {},
     "output_type": "execute_result"
    }
   ],
   "source": [
    "FLAGS.train_samples_path"
   ]
  },
  {
   "cell_type": "code",
   "execution_count": 13,
   "metadata": {
    "collapsed": false
   },
   "outputs": [
    {
     "data": {
      "text/plain": [
       "'/Users/hanzhichao/Documents/ETH_Courses/DeepLearning/project/data/ubuntu/dialogs/'"
      ]
     },
     "execution_count": 13,
     "metadata": {},
     "output_type": "execute_result"
    }
   ],
   "source": [
    "FLAGS.dialog_path"
   ]
  },
  {
   "cell_type": "code",
   "execution_count": 14,
   "metadata": {
    "collapsed": false
   },
   "outputs": [
    {
     "data": {
      "text/plain": [
       "'ubuntu_freqlist.pkl'"
      ]
     },
     "execution_count": 14,
     "metadata": {},
     "output_type": "execute_result"
    }
   ],
   "source": [
    "FLAGS.sorted_list_path"
   ]
  },
  {
   "cell_type": "code",
   "execution_count": 15,
   "metadata": {
    "collapsed": false
   },
   "outputs": [
    {
     "name": "stdout",
     "output_type": "stream",
     "text": [
      "Loading dataset from ...\n",
      "Loaded: 50004 words, 9999 training samples\n",
      "Randomly play samples:\n",
      "Context: locking your front door with scotch tape ... . its only for testing the wifi disconnects and by the way , wpa2 is also unsafe\n",
      "Utterance: alrighty : ) just sayin '\n",
      "Context: hi there what means `` ../ '' and `` ./ '' ? ? parent directory and current directory\n",
      "Utterance: and boohbah thank you so much\n",
      "Context: vmware issue ? how would it ? you are n't emulating a wireless connection can it be set ?\n",
      "Utterance: i do n't use usb wireless or vmware i think you need to use bridged networking\n",
      "Context: i do not understand your reasoning ... if grub is hosed , why would you not be able to ssh to it from live ?\n",
      "Utterance: oh from a live cd ... sorry . no it wont , you should always use purge on\n",
      "Context: i have not really followed it as a result . was curious if anyone here knew if there are updates with <unknown> 3 directly .\n",
      "Utterance: does it work in sound recorder\n",
      "Context: heyho ! i 'm running ubuntu im vmware player andd it suddenly does n't want to start anymore any <unknown> ?\n",
      "Utterance: at first the sceen keeps black for a long time before these problems my ubuntu said it had\n",
      "Context: classpath etc . thanks for the hint . i hoped libreoffice would support <unknown> already , did n't check . did it randomly disconnect ?\n",
      "Utterance: no , the display would n't work correctly , when switching channels\n",
      "Context: not sure : natively well , in windows they got a problem if you want vlans on the host : is that a question ?\n",
      "Utterance: no , it 's what i experienced about problems with realtek\n",
      "Context: setup etc most likely you should do backup your files - run the update and with some small luck end without <unknown> if that helps\n",
      "Utterance: it dose a bit : )\n",
      "Context: where is alternate iso for 12.04 x64 pc ? i want to have full disk encryption with lvm releases.ubuntu.com\n",
      "Utterance: where exactly ? i do n't see it that 's why i ask sry , now i found\n",
      "Context: behavior with unity similar to a tiling wm , or anything of that sort ? one solution is to use a tiling wm within unity\n",
      "Utterance: how-to link ? i 've had difficulty getting that working ( also i like ubuntu 's general <unknown>\n",
      "Context: running applications quickly do you have an actual support <unknown> ? yes , how can i quickly access my running applications via the ui ?\n",
      "Utterance: click on the icon in the launchbar maybe ? if the application is running it will have an\n",
      "Context: so what 's the ssh port ? 7 22\n",
      "Utterance: thanks : )\n",
      "Context: not match my wallpaper on 12.04 . why is that so ( it does change for other user accounts ) ? settings are in <unknown>\n",
      "Utterance: no such file exists and i swear that i did n't touch it . the background changes as\n",
      "Context: : <unknown> # linux shows it as being in the porting stage , and even that was only recently . bsd has full support though\n",
      "Utterance: yes , on ubuntu . since 10.04 even iirc\n",
      "Context: change it also , , and try still no luck bro . btw bro i did installed my ubuntu 12.04 from usb pendrive , ,\n",
      "Utterance: no , that is not necessary . it is all pretty <unknown> : if you add your account\n",
      "Context: have installed work on the new profile ? drivers would yes thankyou ... .and the packages ( such as flash and mp3 etc ) ?\n",
      "Utterance: any packages , will apply to all users as well ( that 's both system wide installed stuff\n",
      "Context: usb stick . antivirus blocked writing autorun.inf . can this have influence on the boot process ? no . no , the usb pendrivelinux install\n",
      "Utterance: it will be fine\n",
      "Context: it gives me a `` non system disk '' message . any help ? thanks a lot how did you make the usb key ?\n",
      "Utterance: i tried with startup disk creator on ubuntu , i tried manually cloning the iso on mac os\n",
      "Context: problem is with magnet links that give you no file sry , tells firefox that magnet will be open with ... sorry i dont understand\n",
      "Utterance: some like this : http : <unknown>\n"
     ]
    }
   ],
   "source": [
    "train_set = TextData(FLAGS.train_samples_path, FLAGS.train_data_path, FLAGS.sorted_list_path, FLAGS.dialog_path, FLAGS.vocab_size, FLAGS.playDataset)"
   ]
  },
  {
   "cell_type": "code",
   "execution_count": 16,
   "metadata": {
    "collapsed": false
   },
   "outputs": [
    {
     "name": "stdout",
     "output_type": "stream",
     "text": [
      "Loading dataset from ...\n",
      "Loaded: 50004 words, 9999 training samples\n",
      "Randomly play samples:\n",
      "Context: can change your mac address with macchanger - correct but it will change it on the physical nic this may help , http : <unknown>\n",
      "Utterance: - unfortunately that does n't let me set the mac address\n",
      "Context: work but then i get bootmgr is missing , and i have a sinking feeling i will need a windows 7 disc to repair that\n",
      "Utterance: yes , that might explain why it has n't been picked up\n",
      "Context: problem i am having http : //ubuntuforums.org/showthread.php ? <unknown> look into 'dmesg ' ; if there 's nothing suspicious , then it 's your mice\n",
      "Utterance: and i do n't have this problem in windows 7 i should note that my mouse still works\n",
      "Context: probably fine for what you want to do . i really appreciate the assistance is your image mounted ? what filesystem type is it ?\n",
      "Utterance: i am not sure what kind of filesystem it is ... i do n't believe its mounted ,\n",
      "Context: manager , and i have selected to be notified about any new release i was wondering the same thing . same issue with # ubuntu-support\n",
      "Utterance: yes ; it makes no sense\n",
      "Context: - stop now this is an ubuntu technical <unknown> channel . please keep to that topic it 's a a `` large memory '' kernel\n",
      "Utterance: ty\n",
      "Context: , but also actually works ( as opposed to recordmydesktop ) ? istanbul ? can you point at a demo video recorded with that ?\n",
      "Utterance: no dont have any.. sry\n",
      "Context: from the command line with apt-get : apt-cache search -n mesa dev ; for the opengl libraries , sudo apt-get install zlib1g-dev ; for zlib\n",
      "Utterance: yes but i do n't always know the package name . so it would be handy if i\n",
      "Context: nvidia optimus card . i 've searched google , and i did n't find anything useful ... does bumblebee need x to be running ?\n",
      "Utterance: yes it needs x\n",
      "Context: ose ? you can not run virtualbox service on port 80 ? run 2 interfaces on virtualbox : nat and <unknown>\n",
      "Utterance: it uses port 80 for a remote connection ?\n",
      "Context: just type $ su and it will ask you for the root password the account is disabled by default , as it should be\n",
      "Utterance: well then somehow i enabled it . how do i <unknown> it ?\n",
      "Context: hud on left alt key press ? ccsm where do i change it in ccsm ? if i recall it right under the unity plugin\n",
      "Utterance: never mind , found it thanks\n",
      "Context: of them wine i have steam running in wine but game performance was unplayable steam is coming for linux first game will be <unknown> 2\n",
      "Utterance: i heard , very excited : d http : <unknown> that 's the article for anyone interested\n",
      "Context: had with wubi , i ca n't say if they would be improved or not anyway thx man i dont get a cam in <unknown>\n",
      "Utterance: ok. how did you install skype ? are you 64bit ? have you tried using the ld_preload trick\n",
      "Context: ! mint | <unknown> it 's the same issue in ubuntu too , i just switched to mint .\n",
      "Utterance: regardless mint is n't <unknown> here .\n",
      "Context: hello ubuntu i was wondering what were some of the better twitter clients for ubuntu linux what exactly does a twitter client do ?\n",
      "Utterance: it is supposed to add more functionality and easier management for <unknown> feeds and <unknown>\n",
      "Context: should have been netstat -an | grep listen | grep < portnumber > and if nothing is listed , then my port is closed ?\n",
      "Utterance: if there is no ouptut , it is not listening which means it is closed if you are\n",
      "Context: distro like <unknown> for that so testdisk or <unknown> ? <unknown> has testdisk , and other specialized tools ... . it 's complete recovery environment\n",
      "Utterance: thanks , i 'll give it a shot\n",
      "Context: the right moment for f6 what is the option that i need to enter ? just <unknown> f6 seems to have made progress xd thanks\n",
      "Utterance: okay turn machine on , you see that tiny icon with `` keyboard = stick man '' at\n",
      "Context: i have more than one and need to tell them apart programatically ) i 'm using ubuntu 11.04 you could probably ls their bus type\n",
      "Utterance: how does one ls a bus type ?\n"
     ]
    }
   ],
   "source": [
    "dev_set = TextData(FLAGS.valid_samples_path, FLAGS.valid_data_path, FLAGS.sorted_list_path, FLAGS.dialog_path, FLAGS.vocab_size, FLAGS.playDataset)"
   ]
  },
  {
   "cell_type": "code",
   "execution_count": 17,
   "metadata": {
    "collapsed": false
   },
   "outputs": [],
   "source": [
    "step_time, loss = 0.0, 0.0\n",
    "current_step = 0\n",
    "previous_loss = []"
   ]
  },
  {
   "cell_type": "code",
   "execution_count": 18,
   "metadata": {
    "collapsed": true
   },
   "outputs": [],
   "source": [
    "FLAGS.num_epochs = 3\n",
    "FLAGS.vocab_size = 50004"
   ]
  },
  {
   "cell_type": "code",
   "execution_count": null,
   "metadata": {
    "collapsed": false
   },
   "outputs": [
    {
     "name": "stdout",
     "output_type": "stream",
     "text": [
      "\n",
      "\n",
      "----- Epoch 1/3 ; (lr=0.5) -----\n",
      "Shuffling dataset...\n"
     ]
    },
    {
     "name": "stderr",
     "output_type": "stream",
     "text": [
      "\r",
      "Training:   0%|          | 0/157 [00:00<?, ?it/s]"
     ]
    },
    {
     "name": "stdout",
     "output_type": "stream",
     "text": [
      "157\n"
     ]
    },
    {
     "name": "stderr",
     "output_type": "stream",
     "text": [
      "Training:  13%|█▎        | 20/157 [01:06<07:27,  3.26s/it]"
     ]
    }
   ],
   "source": [
    "for e in range(FLAGS.num_epochs):\n",
    "    print (\"\\n\")\n",
    "    print(\"----- Epoch {}/{} ; (lr={}) -----\".format(e+1, FLAGS.num_epochs, model.learning_rate))\n",
    "    batches = train_set.get_batches(FLAGS.batch_size)\n",
    "    print( len(batches))\n",
    "    for nextBatch in tqdm(batches, desc=\"Training\"):\n",
    "        ops, feedDict = model.step(nextBatch) # for nextBatch:  decoderSeqs and targetSeqs are very similar, see DeepQA/textdata.py/Line 121-122\n",
    "        TRAINING = 1\n",
    "        _, step_loss = sess.run(ops, feedDict)\n"
   ]
  },
  {
   "cell_type": "code",
   "execution_count": 20,
   "metadata": {
    "collapsed": false
   },
   "outputs": [
    {
     "data": {
      "text/plain": [
       "[[301, 5, 1435, 35, 20, 0, 12, 0, 11, 7, 6, 347, 23, 33, 312],\n",
       " [5, 1818, 12, 18, 1070, 0, 2319, 0, 28, 442, 4, 5675, 83, 2404, 18],\n",
       " [924, 24, 1079, 4, 339, 203, 38227, 0, 1197, 15, 19, 425, 15, 36, 3],\n",
       " [6, 13996, 2092, 18, 11, 7, 34, 0, 11, 932, 21, 7, 9, 7, 40],\n",
       " [11, 14, 22, 5, 47, 61, 15, 0, 19, 2711, 58, 5, 33, 83, 3],\n",
       " [75, 76, 1233, 13142, 191, 4, 1205, 0, 89, 31, 70, 144, 631, 34, 10],\n",
       " [36, 9, 7, 8, 10, 19, 10, 0, 6, 32, 24, 114, 10, 39, 9],\n",
       " [38, 445, 17640, 50, 13, 12, 120, 0, 11, 808, 4940, 25, 28, 13, 13],\n",
       " [244, 5256, 4143, 135, 39, 169, 49, 17, 72, 39, 363, 9, 13, 178, 1023],\n",
       " [7, 7, 6, 168, 12, 10533, 19390, 11129, 12, 13, 264, 13, 86, 4846, 146],\n",
       " [171, 5, 34, 73, 111, 32, 295, 6, 9578, 46, 83, 26, 336, 3, 15],\n",
       " [74, 3335, 11, 5, 4, 1795, 50, 23, 167, 285, 35, 275, 528, 6, 4],\n",
       " [5, 745, 181, 145, 23, 17, 18, 11, 8, 430, 3419, 52, 8, 5, 19],\n",
       " [546, 10, 8091, 9, 442, 12, 11, 170, 16, 52, 381, 5, 10689, 516, 7],\n",
       " [3, 91, 7, 68, 20, 234, 156, 221, 246, 3325, 20, 32, 42, 22310, 210],\n",
       " [6, 24, 4213, 36, 35, 271, 9148, 39, 46, 20, 11, 486, 11, 4, 305],\n",
       " [59, 5, 6, 64, 411, 8, 392, 89, 6, 97, 16, 10, 108, 72, 5],\n",
       " [17, 20053, 335, 577, 2512, 27, 544, 6, 225, 10, 25, 194, 15, 7, 8041],\n",
       " [85, 2985, 24, 28, 75, 124, 6, 4, 84, 18, 3419, 6, 3225, 18, 35],\n",
       " [29, 223, 487, 162, 3943, 8, 37, 18, 21, 204, 1618, 27, 13, 499, 7],\n",
       " [42, 103, 16, 24, 17, 27, 9148, 21, 72, 691, 270, 4, 5, 2741, 43],\n",
       " [11, 13, 25, 32, 5, 124, 31, 99, 7, 45, 33, 250, 1363, 349, 5],\n",
       " [136, 496, 87, 13, 1347, 8, 392, 675, 107, 5, 58, 174, 33, 3090, 4979],\n",
       " [252, 877, 16, 44, 1343, 128, 3769, 16, 13254, 111, 233, 9, 528, 195, 3],\n",
       " [8, 8, 3, 8, 8, 1108, 8, 25, 13162, 8, 66, 10, 8, 108, 8]]"
      ]
     },
     "execution_count": 20,
     "metadata": {},
     "output_type": "execute_result"
    }
   ],
   "source": [
    "nextBatch.encoderSeqs"
   ]
  },
  {
   "cell_type": "code",
   "execution_count": 22,
   "metadata": {
    "collapsed": false
   },
   "outputs": [
    {
     "name": "stdout",
     "output_type": "stream",
     "text": [
      "20\n",
      "15\n"
     ]
    }
   ],
   "source": [
    "print len(nextBatch.weights)\n",
    "print len(nextBatch.weights[0])"
   ]
  },
  {
   "cell_type": "code",
   "execution_count": null,
   "metadata": {
    "collapsed": true
   },
   "outputs": [],
   "source": []
  }
 ],
 "metadata": {
  "kernelspec": {
   "display_name": "Python 2",
   "language": "python",
   "name": "python2"
  },
  "language_info": {
   "codemirror_mode": {
    "name": "ipython",
    "version": 2
   },
   "file_extension": ".py",
   "mimetype": "text/x-python",
   "name": "python",
   "nbconvert_exporter": "python",
   "pygments_lexer": "ipython2",
   "version": "2.7.11"
  }
 },
 "nbformat": 4,
 "nbformat_minor": 0
}
